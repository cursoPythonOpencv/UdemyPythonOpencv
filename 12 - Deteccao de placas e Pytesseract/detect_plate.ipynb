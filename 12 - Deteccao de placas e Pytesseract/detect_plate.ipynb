{
 "cells": [
  {
   "cell_type": "markdown",
   "id": "4a964a19",
   "metadata": {},
   "source": []
  },
  {
   "cell_type": "code",
   "execution_count": 1,
   "id": "df26260a",
   "metadata": {},
   "outputs": [],
   "source": [
    "import cv2\n",
    "import imutils\n",
    "import numpy as np\n",
    "import pickle\n",
    "from imutils import paths\n",
    "from tools.license_plate import LicensePlateDetector\n",
    "from tools.descriptors import NormalizePixels\n",
    "import os"
   ]
  },
  {
   "cell_type": "code",
   "execution_count": 2,
   "id": "3c7e4181",
   "metadata": {},
   "outputs": [],
   "source": [
    "class DetectPlate():\n",
    "\n",
    "    def __init__(self):\n",
    "        self.charModel = pickle.loads(open(os.path.join(os.getcwd(), \"models\", \"simple_char.cpickle\"), \"rb\").read())\n",
    "        self.digitModel = pickle.loads(open(os.path.join(os.getcwd(), \"models\", \"simple_digit.cpickle\"), \"rb\").read())\n",
    "        self.size_blocks = ((5, 5), (5, 10), (10, 5), (10, 10))\n",
    "        self.desc = NormalizePixels(size_blocks=self.size_blocks)\n",
    "\n",
    "\n",
    "\n",
    "    def read_images(self):\n",
    "        for imagePath in sorted(list(paths.list_images(os.path.join(os.getcwd(), 'testing_dataset')))):\n",
    "        \n",
    "            image = cv2.imread(imagePath)\n",
    "\n",
    "            if image.shape[1] > 640:\n",
    "                image = imutils.resize(image, width=640)\n",
    "            self.locate_plate(image)\n",
    "\n",
    "\n",
    "    def locate_plate(self, image):\n",
    "\n",
    "        # Inicializa o detector da placa e detecta as placas e os caracteres\n",
    "        loc_plate = LicensePlateDetector(image, numChars=7)\n",
    "        plates = loc_plate.detect_plates()\n",
    "\n",
    "        for (self.locPlatesBox, self.chars) in plates:\n",
    "            self.locPlatesBox = np.array(self.locPlatesBox).reshape((-1, 1, 2)).astype(np.int32)\n",
    "            \n",
    "            self.text = \"\"  # Texto dos caracteres reconhecidos\n",
    "\n",
    "            for (idx, char) in enumerate(self.chars):\n",
    "                pre_char = LicensePlateDetector.preprocessChar(char)  # Pre-processar os chars\n",
    "                if pre_char is None:\n",
    "                    continue\n",
    "                features = self.desc.describe(pre_char).reshape(1, -1)\n",
    "\n",
    "                # Classificador de caracteres\n",
    "                if idx < 3:\n",
    "                    prediction_char = self.charModel.predict(features)[0]\n",
    "                \n",
    "                # Classificador de numeros\n",
    "                else:\n",
    "                    prediction_char = self.digitModel.predict(features)[0]\n",
    "\n",
    "                self.text += prediction_char.upper()\n",
    "\n",
    "            \n",
    "            \n",
    "            self.bbox_chars(self.chars, image)\n",
    "            \n",
    "    \n",
    "    def bbox_chars(self, chars, image):\n",
    "        if len(chars) > 0:\n",
    "            # Calcula o centro da caixa delimitadora da placa\n",
    "            M = cv2.moments(self.locPlatesBox)\n",
    "            cX = int(M[\"m10\"] / M[\"m00\"])\n",
    "            cY = int(M[\"m01\"] / M[\"m00\"])\n",
    "\n",
    "            # Desenha a região da placa e o texto da placa na imagem\n",
    "            cv2.drawContours(image, [self.locPlatesBox], -1, (0, 255, 0), 2)\n",
    "            cv2.putText(image, self.text, (cX - (cX // 5), cY - 30), cv2.FONT_HERSHEY_SIMPLEX, 1.0,\n",
    "                (0, 0, 255), 2)\n",
    "\n",
    "            cv2.imshow(\"Imagem Original\", image)\n",
    "            cv2.waitKey(0)\n",
    " \n"
   ]
  },
  {
   "cell_type": "code",
   "execution_count": null,
   "id": "881726e4",
   "metadata": {},
   "outputs": [],
   "source": [
    "if __name__ == \"__main__\":\n",
    "\n",
    "    d = DetectPlate()\n",
    "    d.read_images()"
   ]
  },
  {
   "cell_type": "code",
   "execution_count": null,
   "id": "7209d6e2",
   "metadata": {},
   "outputs": [],
   "source": []
  }
 ],
 "metadata": {
  "kernelspec": {
   "display_name": "Python 3 (ipykernel)",
   "language": "python",
   "name": "python3"
  },
  "language_info": {
   "codemirror_mode": {
    "name": "ipython",
    "version": 3
   },
   "file_extension": ".py",
   "mimetype": "text/x-python",
   "name": "python",
   "nbconvert_exporter": "python",
   "pygments_lexer": "ipython3",
   "version": "3.9.12"
  }
 },
 "nbformat": 4,
 "nbformat_minor": 5
}
