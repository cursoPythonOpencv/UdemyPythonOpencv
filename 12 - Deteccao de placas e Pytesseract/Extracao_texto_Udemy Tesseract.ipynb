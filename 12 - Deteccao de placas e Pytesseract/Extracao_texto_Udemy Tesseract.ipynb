{
 "cells": [
  {
   "cell_type": "markdown",
   "metadata": {},
   "source": [
    "# Extração de texto do certificado Udemy"
   ]
  },
  {
   "cell_type": "code",
   "execution_count": null,
   "metadata": {},
   "outputs": [],
   "source": [
    "!pip install pdf2image"
   ]
  },
  {
   "cell_type": "code",
   "execution_count": null,
   "metadata": {},
   "outputs": [],
   "source": [
    "# Biliotecas\n",
    "import cv2\n",
    "from glob import glob\n",
    "import matplotlib.pyplot as plt\n",
    "import os\n",
    "import pandas as pd\n",
    "import re\n",
    "\n",
    "import pytesseract\n",
    "\n",
    "import pdf2image\n",
    "from pdf2image import convert_from_path\n",
    "from pdf2image.exceptions import PDFPageCountError\n",
    "\n",
    "\n"
   ]
  },
  {
   "cell_type": "markdown",
   "metadata": {},
   "source": [
    "### Funções básicas "
   ]
  },
  {
   "cell_type": "code",
   "execution_count": null,
   "metadata": {},
   "outputs": [],
   "source": [
    "# Caminho\n",
    "path = os.getcwd()\n",
    "\n",
    "# Tesseract\n",
    "pytesseract.pytesseract.tesseract_cmd = path + r'\\Tesseract-OCR\\tesseract.exe'\n",
    "tessdata_dir_config = f'--tessdata-dir \"{path}\\\\Tesseract-OCR\\\\tessdata\"'\n",
    "\n",
    "# Variaveis\n",
    "INFO_LIMPO = []\n",
    "NOME = []\n",
    "LOGCORROMPIDO = []\n",
    "\n",
    "# Funcoes Basicas\n",
    "def verificar_pasta(caminho: str) -> str:\n",
    "  # Verificar se pasta Repositorio existe\n",
    "\n",
    "  if os.path.isdir(caminho) == False:\n",
    "      print(f'A pasta {caminho} não existe. Criando diretório.')\n",
    "      os.mkdir(caminho)\n",
    "  else:\n",
    "      print(f'A pasta {caminho} existe.')\n",
    "\n",
    "\n",
    "verificar_pasta(path + r'\\Repositorio')\n",
    "\n",
    "pdfs_files = glob(os.path.join(os.getcwd(), path + r'\\Repositorio\\*.pdf'))"
   ]
  },
  {
   "cell_type": "code",
   "execution_count": null,
   "metadata": {},
   "outputs": [],
   "source": [
    "for fn in range(len(pdfs_files)):\n",
    "    fn=0\n",
    "\n",
    "    try:\n",
    "        # Converter pdf para imagem\n",
    "        images = convert_from_path(pdfs_files[fn])\n",
    "\n",
    "    except PDFPageCountError as e:\n",
    "        print('Nao foi possivel ler o pdf. Corrompido')\n",
    "        LOGCORROMPIDO.append(pdfs_files[fn])\n",
    "        pass\n",
    "\n",
    "    for i in range(len(images)):\n",
    "        images[i].save('page.png', 'PNG')\n",
    "\n",
    "    # Leitura da imagem\n",
    "    img = cv2.imread('page.png', cv2.IMREAD_UNCHANGED)\n",
    "    img = cv2.cvtColor(img, cv2.COLOR_BGR2RGB)\n",
    "\n",
    "    try:\n",
    "\n",
    "        # Encontrar as palavras na imagem\n",
    "        boxes = pytesseract.image_to_data(img, lang='por', config=tessdata_dir_config)\n",
    "        INFO = []  # Armazenar as informacoes obtidas da imagem-pdf\n",
    "\n",
    "        # Encontrar boxes com as infos\n",
    "        for a, b in enumerate(boxes.splitlines()):\n",
    "            print(b)\n",
    "            if a != 0:\n",
    "                b = b.split()\n",
    "                if len(b) == 12:\n",
    "                    INFO.append(b)\n",
    "                    #x,y,w,h = int(b[6]),int(b[7]),int(b[8]),int(b[9])\n",
    "                    # cv2.putText(img,b[11],(x,y-5),cv2.FONT_HERSHEY_SIMPLEX,1,(50,50,255),2)\n",
    "                    #cv2.rectangle(img, (x,y), (x+w, y+h), (50, 50, 255), 2)\n",
    "\n",
    "        # plt.imshow(img)\n",
    "        # plt.show()\n",
    "\n",
    "        # Limpando as informacoes dos boxes\n",
    "        INFO_LIMPO = []\n",
    "        for i in range(len(INFO)):\n",
    "            #print(INFO[i][-1])\n",
    "            INFO_LIMPO.append(INFO[i][-1])\n",
    "\n",
    "        INFO_LIMPO = ' '.join(INFO_LIMPO)\n",
    "        print(INFO_LIMPO)\n",
    "\n",
    "    except :\n",
    "        print('Nao foi possivel ler o pdf')\n",
    "\n",
    "    # Nome\n",
    "    try:\n",
    "        # Nome do aluno\n",
    "        NOME.append(re.search(r\"certify that (.*[A-Za-z\\s]) successfully\", INFO_LIMPO).group(1))\n",
    "    except AttributeError:\n",
    "        print('Nome nao encotrado')"
   ]
  },
  {
   "cell_type": "code",
   "execution_count": null,
   "metadata": {},
   "outputs": [],
   "source": [
    "df = pd.DataFrame({'Nome': NOME})\n",
    "df"
   ]
  },
  {
   "cell_type": "code",
   "execution_count": null,
   "metadata": {},
   "outputs": [],
   "source": []
  }
 ],
 "metadata": {
  "kernelspec": {
   "display_name": "Python 3",
   "language": "python",
   "name": "python3"
  },
  "language_info": {
   "codemirror_mode": {
    "name": "ipython",
    "version": 3
   },
   "file_extension": ".py",
   "mimetype": "text/x-python",
   "name": "python",
   "nbconvert_exporter": "python",
   "pygments_lexer": "ipython3",
   "version": "3.8.6rc1"
  }
 },
 "nbformat": 4,
 "nbformat_minor": 4
}
