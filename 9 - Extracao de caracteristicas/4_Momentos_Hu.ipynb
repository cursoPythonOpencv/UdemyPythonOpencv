{
 "cells": [
  {
   "cell_type": "markdown",
   "metadata": {},
   "source": [
    "### Momentos invariantes de Hu\n",
    "\n",
    "Os momentos invariantes de Hu são sete momentos calculados a partir dos momentos de uma imagem. Astravés deles, podemos obter a área, o centro geométrico e até mesmo um vetor de características invariantes em escala, rotação e translação de um objeto.\n",
    "\n",
    "A função **HuMoments** calcula esses momentos invariantes. Essa função requer como parâmetro apenas os momentos do objeto.\n",
    "\n"
   ]
  },
  {
   "cell_type": "code",
   "execution_count": 1,
   "metadata": {},
   "outputs": [
    {
     "name": "stdout",
     "output_type": "stream",
     "text": [
      "[ 6.42752737e-04  1.10849313e-10  1.06516013e-15  4.41495897e-13\n",
      " -5.94760320e-27 -3.37400894e-18 -7.50261259e-27]\n"
     ]
    }
   ],
   "source": [
    "import cv2\n",
    "import numpy as np\n",
    "\n",
    "img = cv2.imread(\"circle.jpg\",0)\n",
    "\n",
    "momentos = cv2.moments(img)\n",
    "\n",
    "momentosHu = cv2.HuMoments(momentos)\n",
    "\n",
    "print(momentosHu.flatten())"
   ]
  },
  {
   "cell_type": "code",
   "execution_count": null,
   "metadata": {},
   "outputs": [],
   "source": []
  }
 ],
 "metadata": {
  "kernelspec": {
   "display_name": "Python 3",
   "language": "python",
   "name": "python3"
  },
  "language_info": {
   "codemirror_mode": {
    "name": "ipython",
    "version": 3
   },
   "file_extension": ".py",
   "mimetype": "text/x-python",
   "name": "python",
   "nbconvert_exporter": "python",
   "pygments_lexer": "ipython3",
   "version": "3.7.2"
  }
 },
 "nbformat": 4,
 "nbformat_minor": 2
}
