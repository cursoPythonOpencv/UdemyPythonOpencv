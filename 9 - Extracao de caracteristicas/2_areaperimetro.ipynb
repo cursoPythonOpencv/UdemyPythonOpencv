{
 "cells": [
  {
   "cell_type": "markdown",
   "metadata": {},
   "source": [
    "# Extração de características - Dimensionais\n",
    "\n",
    "As características dimensionais definem informações sobre o tamanho do objeto de interesse. A área, o perímetro e o diâmetro são as três principais dessa categoria. \n",
    "\n",
    "Importando as bibliotecas e a imagem"
   ]
  },
  {
   "cell_type": "code",
   "execution_count": 1,
   "metadata": {},
   "outputs": [],
   "source": [
    "import cv2\n",
    "import numpy as np\n",
    "\n",
    "im = cv2.imread(\"triangle.jpg\", 0)"
   ]
  },
  {
   "cell_type": "markdown",
   "metadata": {},
   "source": [
    "Segmentação por binarização "
   ]
  },
  {
   "cell_type": "code",
   "execution_count": 2,
   "metadata": {},
   "outputs": [],
   "source": [
    "tipo = cv2.THRESH_BINARY_INV\n",
    "_, imgBin = cv2.threshold(im, 0, 255, tipo)"
   ]
  },
  {
   "cell_type": "markdown",
   "metadata": {},
   "source": [
    "A área de um objeto de interesse é definida pelo total de pixels que o representa. E através da função **cotourArea** é possível obte-la.\n",
    "\n",
    "Para o uso dessa função é preciso primeiro usar outra função, a **findContours**. Essa função extrai de uma imagem binária os pontos que representam os contornos dos objetos segmentados.\n",
    "\n",
    "FUNÇÃO **findContours(img, modo, método)**\n",
    "\n",
    "Entrada:  \n",
    "        1. img = Imagem com a qual queremos trabalhar binária.\n",
    "        2. modo = pontos extraídos da imagem serão armazenados(cv2.RETR_TREE)\n",
    "        3. método = pontos da imagem binária(cv2.CHAIN_APPROX_NONE, cv2.CHAIN_APPROX_SIMPLE ).\n",
    "\n",
    "Saída:\n",
    "        1. dados da imagem que queremos calcular a área.\n",
    "\n",
    "\n",
    "FUNÇÃO **contourArea(Saida_findContours)**\n",
    "\n",
    "Entrada: \n",
    "        1. Saida_findContours = Objeto segmentado obtido pela função findContours\n",
    "        \n",
    "Saída:\n",
    "        2. Área do objeto estudado.\n"
   ]
  },
  {
   "cell_type": "code",
   "execution_count": 3,
   "metadata": {},
   "outputs": [],
   "source": [
    "modo = cv2.RETR_TREE\n",
    "metodo = cv2.CHAIN_APPROX_SIMPLE\n",
    "\n",
    "contorno, hierarquia = cv2.findContours(imgBin, modo, metodo)"
   ]
  },
  {
   "cell_type": "markdown",
   "metadata": {},
   "source": [
    "Para encontrar o perímetro de um objeto outra função é necessária. O perímetro de um objeto é definido pela soma dos pixels que representam o seu contorno. \n",
    "\n",
    "Através da função **arcLength** pode-se encontrar esse perímetro.\n",
    "\n",
    "FUNÇÃO **arcLength(Saida_findContours, contornos)**\n",
    "\n",
    "Entrada: \n",
    "        1. Saida_findContours = Objeto segmentado obtido pela função findContours\n",
    "        2. contornos = contorno que será obtido (TRUE = contorno fechado, FALSE =  contorno fechado)\n",
    "\n",
    "Saída:\n",
    "        1. Área do objeto estudado.\n",
    "\n",
    "Para ter certeza que estamos trabalhando com uma segmentação no mínimo detectavél é preciso fazer uma verificação."
   ]
  },
  {
   "cell_type": "code",
   "execution_count": 4,
   "metadata": {},
   "outputs": [
    {
     "name": "stdout",
     "output_type": "stream",
     "text": [
      "86112.0\n",
      "1174.0\n"
     ]
    }
   ],
   "source": [
    "if len(contorno)>0:\n",
    "    obj = contorno[0]\n",
    "    area = cv2.contourArea(obj)\n",
    "    print(area)\n",
    "    \n",
    "    perimetro = cv2.arcLength(obj, True)\n",
    "    print(perimetro)\n",
    "    \n",
    "else:\n",
    "    print(\"Sem contorno encontrado\")"
   ]
  },
  {
   "cell_type": "code",
   "execution_count": null,
   "metadata": {},
   "outputs": [],
   "source": []
  }
 ],
 "metadata": {
  "kernelspec": {
   "display_name": "Python 3",
   "language": "python",
   "name": "python3"
  },
  "language_info": {
   "codemirror_mode": {
    "name": "ipython",
    "version": 3
   },
   "file_extension": ".py",
   "mimetype": "text/x-python",
   "name": "python",
   "nbconvert_exporter": "python",
   "pygments_lexer": "ipython3",
   "version": "3.7.2"
  }
 },
 "nbformat": 4,
 "nbformat_minor": 2
}
