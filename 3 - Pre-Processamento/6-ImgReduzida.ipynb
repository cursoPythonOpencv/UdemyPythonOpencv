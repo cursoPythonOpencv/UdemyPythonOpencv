{
 "cells": [
  {
   "cell_type": "markdown",
   "metadata": {},
   "source": [
    "# Ajuste de escala \n",
    "\n",
    "A operação de ajuste de escala tem como objetivo altera proporcionalmente as dimensões de uma imagem sem que a mesma fique destorcida.\n",
    "\n",
    "Importando biblioteca"
   ]
  },
  {
   "cell_type": "code",
   "execution_count": 1,
   "metadata": {},
   "outputs": [],
   "source": [
    "import cv2 as cv\n",
    "import numpy as np\n",
    "from matplotlib import pyplot as plt"
   ]
  },
  {
   "cell_type": "markdown",
   "metadata": {},
   "source": [
    "Lendo a imagem"
   ]
  },
  {
   "cell_type": "code",
   "execution_count": 2,
   "metadata": {},
   "outputs": [],
   "source": [
    "imgOriginal = cv.imread(\"einstein.jpg\")"
   ]
  },
  {
   "cell_type": "markdown",
   "metadata": {},
   "source": [
    "FUNÇÃO **resize(src, dst, fx, fy, interpolation)**\n",
    "\n",
    "Entrada:\n",
    "                1. src = Matriz referente à imagem.\n",
    "                2. dst = Imagem de saída.\n",
    "                3. fx = fator de escala horizontal.\n",
    "                4. fy = fator de escala vertical.\n",
    "                5. interpolation = Método de interpolação\n",
    "                    INTER_NEAREST \n",
    "                    INTER_LINEAR \n",
    "                    INTER_AREA\n",
    "                    INTER_CUBIC\n",
    "                \n",
    "\n",
    "Saída:\n",
    "                1. imagem modificada.\n"
   ]
  },
  {
   "cell_type": "code",
   "execution_count": 3,
   "metadata": {},
   "outputs": [],
   "source": [
    "imgModificada = cv.resize(imgOriginal,\n",
    "                         None,\n",
    "                         fx = 0.8,\n",
    "                         fy = 0.8,\n",
    "                         interpolation = cv.INTER_CUBIC)"
   ]
  },
  {
   "cell_type": "code",
   "execution_count": 6,
   "metadata": {},
   "outputs": [],
   "source": [
    "cv.imshow(\"Imagem Original\", imgOriginal)\n",
    "cv.imshow(\"Imagem Modificada\", imgModificada)\n",
    "cv.waitKey(0)\n",
    "cv.destroyAllWindows()"
   ]
  }
 ],
 "metadata": {
  "kernelspec": {
   "display_name": "Python 3",
   "language": "python",
   "name": "python3"
  },
  "language_info": {
   "codemirror_mode": {
    "name": "ipython",
    "version": 3
   },
   "file_extension": ".py",
   "mimetype": "text/x-python",
   "name": "python",
   "nbconvert_exporter": "python",
   "pygments_lexer": "ipython3",
   "version": "3.7.2"
  }
 },
 "nbformat": 4,
 "nbformat_minor": 2
}
