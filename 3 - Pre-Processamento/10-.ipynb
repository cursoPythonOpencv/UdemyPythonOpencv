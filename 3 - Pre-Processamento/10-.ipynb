{
 "cells": [
  {
   "cell_type": "markdown",
   "metadata": {},
   "source": [
    "# Comparação de Histograma\n",
    "\n",
    "\n",
    "\n"
   ]
  },
  {
   "cell_type": "code",
   "execution_count": 1,
   "metadata": {},
   "outputs": [],
   "source": [
    "# Biblioteca\n",
    "import numpy as np\n",
    "import glob\n",
    "import cv2\n",
    "import os\n",
    "import pandas as pd\n",
    "\n",
    "#inicialize o dicionário de índice para armazenar o nome da imagem \n",
    "# e os histogramas correspondentes \n",
    "# e o dicionário de imagens para armazenar as próprias imagens\n",
    "\n",
    "\n",
    "index = {}  # Armazenar o nome da imagem e os histogramas\n",
    "images = {} # Armezar as próprias imagens\n",
    "\n",
    "# Pegar as imagens na pasta\n",
    "for imagePath in glob.glob(os.getcwd() + \"\\*.jpg\"):\n",
    "\n",
    "    #extrair o nome do arquivo da imagem (considerado único) e \n",
    "    # carregar a imagem, atualizando o dicionário de imagens\n",
    "    filename = imagePath[imagePath.rfind(\"/\") + 1:]\n",
    "    image = cv2.imread(imagePath)\n",
    "    images[filename] = cv2.cvtColor(image, cv2.COLOR_BGR2RGB)\n",
    "\n",
    "    #extrair um histograma de cores RGB da imagem, \n",
    "    # usando 8 caixas por canal, normalizar e atualizar o índice\n",
    "    hist = cv2.calcHist([image], [1,2], None, [8, 8],[0, 256, 0, 256])\n",
    "    hist = cv2.normalize(hist, hist).flatten()\n",
    "    index[filename] = hist"
   ]
  },
  {
   "cell_type": "code",
   "execution_count": 2,
   "metadata": {},
   "outputs": [
    {
     "data": {
      "text/plain": [
       "{'C:\\\\Users\\\\megan\\\\Desktop\\\\Aula Udemy - HistComp\\\\apple1.jpg': array([8.4590201e-06, 5.4560677e-04, 1.0298857e-03, 2.2162632e-03,\n",
       "        3.1234932e-03, 6.7693307e-03, 1.4371876e-02, 4.0645590e-03,\n",
       "        0.0000000e+00, 1.5014761e-04, 1.0869841e-03, 2.7047717e-03,\n",
       "        1.4338039e-03, 6.3484944e-03, 2.1481682e-02, 2.2329699e-02,\n",
       "        2.5165585e-04, 6.5768883e-04, 1.2054104e-04, 1.3936235e-03,\n",
       "        2.5842306e-03, 1.7552467e-03, 1.4331695e-02, 3.7640523e-02,\n",
       "        5.7098387e-05, 4.4621332e-03, 4.7793463e-04, 3.6796738e-04,\n",
       "        2.2226076e-03, 2.5694275e-03, 8.8291019e-03, 4.7571413e-02,\n",
       "        0.0000000e+00, 1.9371156e-03, 4.1153133e-03, 7.0421345e-04,\n",
       "        1.0214266e-03, 4.1005099e-03, 5.3439857e-03, 4.4970267e-02,\n",
       "        0.0000000e+00, 0.0000000e+00, 1.9603779e-03, 8.0402987e-03,\n",
       "        4.5742150e-03, 2.1316730e-03, 8.2179382e-03, 2.2365650e-02,\n",
       "        0.0000000e+00, 0.0000000e+00, 0.0000000e+00, 1.3111481e-04,\n",
       "        6.8877572e-03, 1.4190007e-03, 5.8261501e-03, 2.0511009e-02,\n",
       "        0.0000000e+00, 0.0000000e+00, 0.0000000e+00, 0.0000000e+00,\n",
       "        0.0000000e+00, 5.0754119e-05, 4.6524612e-04, 9.9571127e-01],\n",
       "       dtype=float32),\n",
       " 'C:\\\\Users\\\\megan\\\\Desktop\\\\Aula Udemy - HistComp\\\\apple2.jpg': array([0.0000000e+00, 4.7261792e-04, 1.5337360e-03, 1.4701143e-03,\n",
       "        1.0524837e-02, 3.1140521e-02, 4.3262718e-03, 4.5444031e-05,\n",
       "        0.0000000e+00, 9.0888061e-06, 9.5886906e-04, 1.7791338e-03,\n",
       "        2.9311399e-03, 3.1333659e-02, 3.7888959e-02, 5.5555329e-03,\n",
       "        0.0000000e+00, 1.8177612e-05, 3.1810821e-05, 1.2587997e-03,\n",
       "        3.8581982e-03, 9.4887139e-03, 4.2237952e-02, 2.7100548e-02,\n",
       "        0.0000000e+00, 6.4984965e-04, 1.0611181e-03, 1.8632053e-04,\n",
       "        2.3358231e-03, 5.4555559e-03, 2.3603629e-02, 3.5371359e-02,\n",
       "        0.0000000e+00, 2.0449814e-05, 1.9745431e-03, 2.8516129e-03,\n",
       "        2.7039199e-04, 5.6600538e-03, 1.7230105e-02, 2.8284365e-02,\n",
       "        0.0000000e+00, 0.0000000e+00, 2.4994217e-05, 3.4696518e-03,\n",
       "        5.8850017e-03, 1.0179463e-03, 1.5878145e-02, 3.7227750e-02,\n",
       "        0.0000000e+00, 0.0000000e+00, 0.0000000e+00, 0.0000000e+00,\n",
       "        2.4448889e-03, 4.6966407e-03, 1.0997456e-02, 3.9136399e-02,\n",
       "        0.0000000e+00, 0.0000000e+00, 0.0000000e+00, 0.0000000e+00,\n",
       "        0.0000000e+00, 2.7266418e-05, 7.7482074e-04, 9.9370873e-01],\n",
       "       dtype=float32),\n",
       " 'C:\\\\Users\\\\megan\\\\Desktop\\\\Aula Udemy - HistComp\\\\apple3.jpg': array([0.0000000e+00, 4.0137642e-03, 2.5933024e-02, 8.0272838e-02,\n",
       "        9.4531238e-02, 5.3630929e-02, 4.0479861e-03, 0.0000000e+00,\n",
       "        0.0000000e+00, 1.5155504e-04, 1.1848182e-02, 1.0019744e-02,\n",
       "        3.2635666e-02, 4.9893387e-02, 1.3928398e-02, 1.8577714e-04,\n",
       "        0.0000000e+00, 0.0000000e+00, 1.5522169e-03, 8.3795274e-03,\n",
       "        5.3362041e-03, 1.4647062e-02, 2.1765260e-02, 1.6035502e-03,\n",
       "        0.0000000e+00, 0.0000000e+00, 2.4957694e-03, 5.2970932e-03,\n",
       "        6.5242001e-03, 2.9944342e-03, 1.1723516e-02, 3.8646536e-03,\n",
       "        0.0000000e+00, 0.0000000e+00, 0.0000000e+00, 9.1666356e-03,\n",
       "        7.0081986e-03, 6.6537554e-03, 6.3750898e-03, 4.9304278e-03,\n",
       "        0.0000000e+00, 0.0000000e+00, 0.0000000e+00, 0.0000000e+00,\n",
       "        9.2130797e-03, 9.2277462e-03, 7.9493066e-03, 9.9341888e-03,\n",
       "        0.0000000e+00, 0.0000000e+00, 0.0000000e+00, 0.0000000e+00,\n",
       "        0.0000000e+00, 3.8035426e-03, 1.2036404e-02, 2.3192810e-02,\n",
       "        0.0000000e+00, 0.0000000e+00, 0.0000000e+00, 0.0000000e+00,\n",
       "        0.0000000e+00, 0.0000000e+00, 3.7888761e-04, 9.8729312e-01],\n",
       "       dtype=float32),\n",
       " 'C:\\\\Users\\\\megan\\\\Desktop\\\\Aula Udemy - HistComp\\\\apple_green.jpg': array([1.8707684e-06, 3.9286137e-05, 2.0391376e-04, 3.5544599e-05,\n",
       "        0.0000000e+00, 0.0000000e+00, 0.0000000e+00, 0.0000000e+00,\n",
       "        2.9183988e-04, 1.2534148e-04, 3.1054756e-04, 6.7908893e-04,\n",
       "        3.9660290e-04, 5.6123054e-06, 0.0000000e+00, 0.0000000e+00,\n",
       "        5.6684285e-04, 5.0679115e-03, 3.5731678e-04, 2.9183988e-04,\n",
       "        5.1259057e-04, 3.7789522e-04, 3.7415368e-06, 0.0000000e+00,\n",
       "        0.0000000e+00, 2.6059805e-03, 1.5841667e-02, 1.0588550e-03,\n",
       "        6.6973508e-04, 2.8622756e-04, 1.8146454e-04, 0.0000000e+00,\n",
       "        0.0000000e+00, 0.0000000e+00, 2.6920359e-03, 1.4956794e-02,\n",
       "        3.4403431e-03, 2.5779188e-03, 1.5901531e-04, 1.8707684e-06,\n",
       "        0.0000000e+00, 0.0000000e+00, 0.0000000e+00, 6.2483666e-04,\n",
       "        2.3852298e-02, 7.2997385e-03, 2.3515560e-03, 1.0663380e-04,\n",
       "        0.0000000e+00, 0.0000000e+00, 0.0000000e+00, 0.0000000e+00,\n",
       "        9.1854727e-04, 4.7167685e-02, 2.5992457e-02, 5.2213147e-03,\n",
       "        0.0000000e+00, 0.0000000e+00, 0.0000000e+00, 0.0000000e+00,\n",
       "        0.0000000e+00, 1.8707684e-06, 3.2596268e-02, 9.9741888e-01],\n",
       "       dtype=float32),\n",
       " 'C:\\\\Users\\\\megan\\\\Desktop\\\\Aula Udemy - HistComp\\\\pineapple.jpg': array([1.48089800e-03, 1.18471842e-04, 1.34419970e-04, 1.59481322e-04,\n",
       "        2.50613521e-05, 0.00000000e+00, 0.00000000e+00, 0.00000000e+00,\n",
       "        6.06940361e-03, 2.02541286e-03, 1.44444522e-03, 1.97529024e-03,\n",
       "        1.33736490e-03, 4.60217561e-04, 2.48335215e-04, 6.83491407e-06,\n",
       "        5.42464340e-03, 5.41780842e-03, 3.56554682e-03, 2.81598466e-03,\n",
       "        3.69768846e-03, 3.18734837e-03, 3.07571143e-03, 9.02208674e-04,\n",
       "        4.92113817e-04, 7.25184381e-03, 5.71171008e-03, 4.10094857e-03,\n",
       "        3.41517874e-03, 4.82544955e-03, 7.89660402e-03, 7.70750456e-03,\n",
       "        0.00000000e+00, 1.16649200e-03, 1.21228592e-02, 1.14621511e-02,\n",
       "        4.96442569e-03, 4.66368953e-03, 1.14758210e-02, 2.95610037e-02,\n",
       "        0.00000000e+00, 0.00000000e+00, 1.98212510e-04, 8.58237408e-03,\n",
       "        1.31162005e-02, 6.56835223e-03, 9.25903022e-03, 1.41138703e-01,\n",
       "        0.00000000e+00, 0.00000000e+00, 0.00000000e+00, 9.11321877e-06,\n",
       "        2.18261592e-03, 7.27007026e-03, 1.06806923e-02, 1.13484636e-01,\n",
       "        0.00000000e+00, 0.00000000e+00, 0.00000000e+00, 0.00000000e+00,\n",
       "        0.00000000e+00, 1.02523714e-04, 2.84332433e-03, 9.82288778e-01],\n",
       "       dtype=float32)}"
      ]
     },
     "execution_count": 2,
     "metadata": {},
     "output_type": "execute_result"
    }
   ],
   "source": [
    "# Verificar o calculo do histograma\n",
    "\n",
    "index"
   ]
  },
  {
   "cell_type": "markdown",
   "metadata": {},
   "source": [
    "### Métodos para comparar histogramas\n",
    "\n",
    "Função: **cv2.compareHist(H1, H2, método)**\n",
    "\n",
    "**H1**: primeiro histograma a ser comparado,\n",
    "\n",
    "**H2**: segundo histograma a ser comparado,\n",
    "\n",
    "**método**: uma flag que indica qual método de comparação deve ser executado.\n",
    "\n",
    "A flag pode ser qualquer um dos seguintes método:\n",
    "\n",
    "* **cv2.HISTCMP_CORREL**: Calcula a correlação entre os dois histogramas.\n",
    "\n",
    "* **cv2.HISTCMP_CHISQR**: Aplica a distância Qui-Quadrado aos histogramas.\n",
    "\n",
    "* **cv2.HISTCMP_INTERSECT**: Calcula a interseção entre dois histogramas.\n",
    "\n",
    "* **cv2.HISTCMP_BHATTACHARYYA**: Distância de Bhattacharyya, usada para medir a “sobreposição” entre os dois histogramas."
   ]
  },
  {
   "cell_type": "code",
   "execution_count": 3,
   "metadata": {},
   "outputs": [],
   "source": [
    "# Metodos para calculo do histograma\n",
    "OPENCV_METHODS = (\n",
    "    (\"Correlation\", cv2.HISTCMP_CORREL),\n",
    "    (\"Chi-Squared\", cv2.HISTCMP_CHISQR),\n",
    "    (\"Intersection\", cv2.HISTCMP_INTERSECT),\n",
    "    (\"Bhattacharyya\", cv2.HISTCMP_BHATTACHARYYA))\n",
    "\n",
    "imagem_analisada = '\\\\apple1.jpg'\n",
    "        \n",
    "lista_resultados = []\n",
    "lista_methodName = []\n",
    "\n",
    "for (methodName, method) in OPENCV_METHODS:\n",
    "\n",
    "    results = {}\n",
    "    reverse = False\n",
    "\n",
    "    # se estivermos usando a Correlation ou Intersection\n",
    "    # classificar os resultados na ordem inversa\n",
    "    if methodName in (\"Correlation\", \"Intersection\"):\n",
    "        reverse = True\n",
    "\n",
    "    for (k, hist) in index.items():\n",
    "        # Calcular a distancia entre os dois histogramas usando os metodos\n",
    "        # Atualizar o dicionario de resultados\n",
    "        d = cv2.compareHist(index[os.getcwd() + imagem_analisada], hist, method)\n",
    "        results[k] = d\n",
    "\n",
    "    # Ordenar os resultados\n",
    "    #print(methodName)\n",
    "    lista_methodName.append(methodName)\n",
    "    results = sorted([(v, k) for (k, v) in results.items()], reverse = reverse)\n",
    "    lista_resultados.append(results)\n",
    "\n"
   ]
  },
  {
   "cell_type": "code",
   "execution_count": 4,
   "metadata": {},
   "outputs": [
    {
     "data": {
      "text/plain": [
       "[[(1.0, 'C:\\\\Users\\\\megan\\\\Desktop\\\\Aula Udemy - HistComp\\\\apple1.jpg'),\n",
       "  (0.9977949986529369,\n",
       "   'C:\\\\Users\\\\megan\\\\Desktop\\\\Aula Udemy - HistComp\\\\apple2.jpg'),\n",
       "  (0.99374455258592,\n",
       "   'C:\\\\Users\\\\megan\\\\Desktop\\\\Aula Udemy - HistComp\\\\apple_green.jpg'),\n",
       "  (0.9865322210986823,\n",
       "   'C:\\\\Users\\\\megan\\\\Desktop\\\\Aula Udemy - HistComp\\\\apple3.jpg'),\n",
       "  (0.9856005600869122,\n",
       "   'C:\\\\Users\\\\megan\\\\Desktop\\\\Aula Udemy - HistComp\\\\pineapple.jpg')],\n",
       " [(0.0, 'C:\\\\Users\\\\megan\\\\Desktop\\\\Aula Udemy - HistComp\\\\apple1.jpg'),\n",
       "  (0.46854840131568914,\n",
       "   'C:\\\\Users\\\\megan\\\\Desktop\\\\Aula Udemy - HistComp\\\\apple2.jpg'),\n",
       "  (2.1143753210409972,\n",
       "   'C:\\\\Users\\\\megan\\\\Desktop\\\\Aula Udemy - HistComp\\\\pineapple.jpg'),\n",
       "  (4.982400138697053,\n",
       "   'C:\\\\Users\\\\megan\\\\Desktop\\\\Aula Udemy - HistComp\\\\apple_green.jpg'),\n",
       "  (8.074007497620023,\n",
       "   'C:\\\\Users\\\\megan\\\\Desktop\\\\Aula Udemy - HistComp\\\\apple3.jpg')],\n",
       " [(1.3534432270998877,\n",
       "   'C:\\\\Users\\\\megan\\\\Desktop\\\\Aula Udemy - HistComp\\\\apple1.jpg'),\n",
       "  (1.2569620175636373,\n",
       "   'C:\\\\Users\\\\megan\\\\Desktop\\\\Aula Udemy - HistComp\\\\apple2.jpg'),\n",
       "  (1.1465068510374294,\n",
       "   'C:\\\\Users\\\\megan\\\\Desktop\\\\Aula Udemy - HistComp\\\\pineapple.jpg'),\n",
       "  (1.1398096398916095,\n",
       "   'C:\\\\Users\\\\megan\\\\Desktop\\\\Aula Udemy - HistComp\\\\apple3.jpg'),\n",
       "  (1.0351118630470637,\n",
       "   'C:\\\\Users\\\\megan\\\\Desktop\\\\Aula Udemy - HistComp\\\\apple_green.jpg')],\n",
       " [(0.0, 'C:\\\\Users\\\\megan\\\\Desktop\\\\Aula Udemy - HistComp\\\\apple1.jpg'),\n",
       "  (0.1610709497331469,\n",
       "   'C:\\\\Users\\\\megan\\\\Desktop\\\\Aula Udemy - HistComp\\\\apple2.jpg'),\n",
       "  (0.2995433724518647,\n",
       "   'C:\\\\Users\\\\megan\\\\Desktop\\\\Aula Udemy - HistComp\\\\pineapple.jpg'),\n",
       "  (0.34973544724834466,\n",
       "   'C:\\\\Users\\\\megan\\\\Desktop\\\\Aula Udemy - HistComp\\\\apple3.jpg'),\n",
       "  (0.38059305604662713,\n",
       "   'C:\\\\Users\\\\megan\\\\Desktop\\\\Aula Udemy - HistComp\\\\apple_green.jpg')]]"
      ]
     },
     "execution_count": 4,
     "metadata": {},
     "output_type": "execute_result"
    }
   ],
   "source": [
    "lista_resultados"
   ]
  },
  {
   "cell_type": "code",
   "execution_count": 5,
   "metadata": {},
   "outputs": [],
   "source": [
    "# Criar o dataframe\n",
    "\n",
    "for i in range(len(lista_methodName)):\n",
    "    lista_resultados[i] =  pd.DataFrame(lista_resultados[i])\n",
    "    lista_resultados[i]['Metodo'] = lista_methodName[i]\n",
    "\n",
    "\n",
    "df = pd.concat(lista_resultados)\n",
    "df.to_csv('Resultado_compareHist.csv', sep=';', encoding='latin1')"
   ]
  },
  {
   "cell_type": "code",
   "execution_count": 6,
   "metadata": {},
   "outputs": [
    {
     "name": "stdout",
     "output_type": "stream",
     "text": [
      "C:\\Users\\megan\\Desktop\\Aula Udemy - HistComp\\apple1.jpg\n",
      "C:\\Users\\megan\\Desktop\\Aula Udemy - HistComp\\apple2.jpg\n",
      "C:\\Users\\megan\\Desktop\\Aula Udemy - HistComp\\apple_green.jpg\n",
      "C:\\Users\\megan\\Desktop\\Aula Udemy - HistComp\\apple3.jpg\n",
      "C:\\Users\\megan\\Desktop\\Aula Udemy - HistComp\\pineapple.jpg\n"
     ]
    }
   ],
   "source": [
    "# Analise do DataFrame\n",
    "# Correlacao\n",
    "correlation = df.loc[df['Metodo'] == 'Correlation']\n",
    "correlation.sort_values(0)\n",
    "\n",
    "for i in range(len(correlation)):\n",
    "    print(correlation[1][i])"
   ]
  },
  {
   "cell_type": "code",
   "execution_count": 7,
   "metadata": {},
   "outputs": [
    {
     "name": "stdout",
     "output_type": "stream",
     "text": [
      "C:\\Users\\megan\\Desktop\\Aula Udemy - HistComp\\apple1.jpg\n",
      "C:\\Users\\megan\\Desktop\\Aula Udemy - HistComp\\apple2.jpg\n",
      "C:\\Users\\megan\\Desktop\\Aula Udemy - HistComp\\pineapple.jpg\n",
      "C:\\Users\\megan\\Desktop\\Aula Udemy - HistComp\\apple_green.jpg\n",
      "C:\\Users\\megan\\Desktop\\Aula Udemy - HistComp\\apple3.jpg\n"
     ]
    }
   ],
   "source": [
    "#Chi-Quadrado\n",
    "ChiSquared = df.loc[df['Metodo'] == 'Chi-Squared']\n",
    "ChiSquared.sort_values(0)\n",
    "\n",
    "for i in range(len(ChiSquared)):\n",
    "    print(ChiSquared[1][i])"
   ]
  },
  {
   "cell_type": "code",
   "execution_count": 8,
   "metadata": {},
   "outputs": [
    {
     "name": "stdout",
     "output_type": "stream",
     "text": [
      "C:\\Users\\megan\\Desktop\\Aula Udemy - HistComp\\apple1.jpg\n",
      "C:\\Users\\megan\\Desktop\\Aula Udemy - HistComp\\apple2.jpg\n",
      "C:\\Users\\megan\\Desktop\\Aula Udemy - HistComp\\pineapple.jpg\n",
      "C:\\Users\\megan\\Desktop\\Aula Udemy - HistComp\\apple3.jpg\n",
      "C:\\Users\\megan\\Desktop\\Aula Udemy - HistComp\\apple_green.jpg\n"
     ]
    }
   ],
   "source": [
    "#Intersecao\n",
    "Intersection = df.loc[df['Metodo'] == 'Intersection']\n",
    "Intersection.sort_values(0)\n",
    "\n",
    "for i in range(len(Intersection)):\n",
    "    print(Intersection[1][i])\n"
   ]
  },
  {
   "cell_type": "code",
   "execution_count": 9,
   "metadata": {},
   "outputs": [
    {
     "name": "stdout",
     "output_type": "stream",
     "text": [
      "C:\\Users\\megan\\Desktop\\Aula Udemy - HistComp\\apple1.jpg\n",
      "C:\\Users\\megan\\Desktop\\Aula Udemy - HistComp\\apple2.jpg\n",
      "C:\\Users\\megan\\Desktop\\Aula Udemy - HistComp\\pineapple.jpg\n",
      "C:\\Users\\megan\\Desktop\\Aula Udemy - HistComp\\apple3.jpg\n",
      "C:\\Users\\megan\\Desktop\\Aula Udemy - HistComp\\apple_green.jpg\n"
     ]
    }
   ],
   "source": [
    "#Bhattacharyya\n",
    "Bhattacharyya = df.loc[df['Metodo'] == 'Bhattacharyya']\n",
    "Bhattacharyya.sort_values(0)\n",
    "\n",
    "for i in range(len(Bhattacharyya)):\n",
    "    print(Bhattacharyya[1][i])\n"
   ]
  },
  {
   "cell_type": "code",
   "execution_count": null,
   "metadata": {},
   "outputs": [],
   "source": []
  }
 ],
 "metadata": {
  "kernelspec": {
   "display_name": "Python 3",
   "language": "python",
   "name": "python3"
  },
  "language_info": {
   "codemirror_mode": {
    "name": "ipython",
    "version": 3
   },
   "file_extension": ".py",
   "mimetype": "text/x-python",
   "name": "python",
   "nbconvert_exporter": "python",
   "pygments_lexer": "ipython3",
   "version": "3.8.6rc1"
  }
 },
 "nbformat": 4,
 "nbformat_minor": 4
}
