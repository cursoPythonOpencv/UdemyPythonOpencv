{
 "cells": [
  {
   "cell_type": "markdown",
   "metadata": {},
   "source": [
    "# Face Blurred\n",
    "\n",
    "O objetivo desse programa é desenvolver um reconhecimento de faces por Haarcascade e fazer o borramento da face usando Gaussian Blur."
   ]
  },
  {
   "cell_type": "code",
   "execution_count": 1,
   "metadata": {},
   "outputs": [
    {
     "name": "stdout",
     "output_type": "stream",
     "text": [
      "A pasta Haarcascades existe.\n"
     ]
    }
   ],
   "source": [
    "# bibliotecas\n",
    "import cv2\n",
    "import os\n",
    "\n",
    "\n",
    "# Path\n",
    "path = os.getcwd()\n",
    "\n",
    "# Verificando se a pasta com Haarcascades existe\n",
    "if os.path.isdir('Haarcascades') == False:\n",
    "    print('A pasta Haarcascades não se encontra.')\n",
    "else:\n",
    "    print('A pasta Haarcascades existe.')\n",
    "\n",
    "# Lendo o xml\n",
    "cascade = cv2.CascadeClassifier(\n",
    "    path + '\\\\Haarcascades\\\\haarcascade_frontalface_default.xml')"
   ]
  },
  {
   "cell_type": "markdown",
   "metadata": {},
   "source": [
    "### Função para detecção de face"
   ]
  },
  {
   "cell_type": "code",
   "execution_count": 2,
   "metadata": {},
   "outputs": [],
   "source": [
    "def faceBlur(gray, frame):\n",
    "    \n",
    "    # Deteccao de face\n",
    "    faces = cascade.detectMultiScale(gray, 1.1, 4)\n",
    "    \n",
    "    # Localizacao da face\n",
    "    for (x,y, w,h) in faces:\n",
    "        # ROI da face\n",
    "        roi_frame = frame[y:y+h, x:x+w]\n",
    "        \n",
    "        # Filtro \n",
    "        blur = cv2.GaussianBlur(roi_frame, (101, 101), 0)\n",
    "        \n",
    "        # Aplicacao do filtro\n",
    "        frame[y:y+h, x:x+w] = blur\n",
    "        \n",
    "        \n",
    "    return frame"
   ]
  },
  {
   "cell_type": "markdown",
   "metadata": {},
   "source": [
    "### Captação das imagens"
   ]
  },
  {
   "cell_type": "code",
   "execution_count": 3,
   "metadata": {},
   "outputs": [],
   "source": [
    "cap = cv2.VideoCapture(0)\n",
    "\n",
    "while True:\n",
    "    ret, frame = cap.read()\n",
    "    \n",
    "    gray = cv2.cvtColor(frame, cv2.COLOR_BGR2GRAY)\n",
    "    blur = faceBlur(gray, frame)\n",
    "    cv2.imshow('Video', blur)\n",
    "    \n",
    "    if cv2.waitKey(1) & 0xFF == ord('q'):\n",
    "        break\n",
    "        \n",
    "cap.release()\n",
    "cv2.destroyAllWindows()"
   ]
  },
  {
   "cell_type": "code",
   "execution_count": null,
   "metadata": {},
   "outputs": [],
   "source": []
  }
 ],
 "metadata": {
  "kernelspec": {
   "display_name": "Python 3",
   "language": "python",
   "name": "python3"
  },
  "language_info": {
   "codemirror_mode": {
    "name": "ipython",
    "version": 3
   },
   "file_extension": ".py",
   "mimetype": "text/x-python",
   "name": "python",
   "nbconvert_exporter": "python",
   "pygments_lexer": "ipython3",
   "version": "3.8.6rc1"
  }
 },
 "nbformat": 4,
 "nbformat_minor": 4
}
