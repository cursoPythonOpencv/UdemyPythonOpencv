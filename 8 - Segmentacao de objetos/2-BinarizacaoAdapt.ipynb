{
 "cells": [
  {
   "cell_type": "markdown",
   "metadata": {},
   "source": [
    "# Binarização adaptativa\n",
    "\n",
    "Esse método é usado quando a imagem não possui iluminação adequada para o procedimento de binarização. A binarização adaptativa calcula diferentes valores de limiar para cada região da imagem, logo, cada região é tratada a fim de obter o melhor resultado cosiderando o seu contraste. \n",
    "\n",
    "Importando as bibliotecas e lendo a imagem."
   ]
  },
  {
   "cell_type": "code",
   "execution_count": 2,
   "metadata": {},
   "outputs": [],
   "source": [
    "import cv2\n",
    "import numpy as np\n",
    "from matplotlib import pyplot as plt\n",
    "%notebook inline\n",
    "\n",
    "img = cv2.imread('olho.PNG', 0)"
   ]
  },
  {
   "cell_type": "markdown",
   "metadata": {},
   "source": [
    "Aplicando um filtro mediana na imagem para suaviza-la melhor"
   ]
  },
  {
   "cell_type": "code",
   "execution_count": 3,
   "metadata": {},
   "outputs": [],
   "source": [
    "imgGauss = cv2.medianBlur(img, 7)"
   ]
  },
  {
   "cell_type": "markdown",
   "metadata": {},
   "source": [
    "FUNÇÃO **adaptiveThreshold(src, maxValue, adaptiveMethod, thresholdType, blockSize, C)**\n",
    "\n",
    "Entrada:  \n",
    "           1. src = Matriz referente à imagem.\n",
    "           2. maxValue = Valor de intensidade máxima do pixel.\n",
    "           3. adaptiveMethod = ADAPTIVE_THRESH_MEAN_C\n",
    "                               ADAPTIVE_THRESH_GAUSSIAN_C\n",
    "           4. thresholdType = THRESH_BINARY – Objeto de interesse em cor preta.\n",
    "                              THRESH_BINARY_INV – Objeto de interesse em cor branca.\n",
    "           5. blockSize = Tamanho da máscara.\n",
    "           6. C = Constante de subtração da média ou da média ponderada.\n",
    "\n",
    "Saída = Matriz referente a imagem binarizada adaptada.\n"
   ]
  },
  {
   "cell_type": "code",
   "execution_count": 4,
   "metadata": {},
   "outputs": [],
   "source": [
    "th2 = cv2.adaptiveThreshold(imgGauss, 255, cv2.ADAPTIVE_THRESH_MEAN_C, cv2.THRESH_BINARY, 11, 5)\n",
    "th3 = cv2.adaptiveThreshold(imgGauss, 255, cv2.ADAPTIVE_THRESH_GAUSSIAN_C, cv2.THRESH_BINARY, 11, 2)\n"
   ]
  },
  {
   "cell_type": "markdown",
   "metadata": {},
   "source": [
    "Imagens segmentadas por binarização adaptativa"
   ]
  },
  {
   "cell_type": "code",
   "execution_count": 6,
   "metadata": {},
   "outputs": [],
   "source": [
    "cv2.imshow('Original', img)\n",
    "cv2.imshow('Imagem Media', th2)\n",
    "cv2.imshow('Imagem Gaussiana', th3)\n",
    "\n",
    "cv2.waitKey(0)\n",
    "cv2.destroyAllWindows()"
   ]
  },
  {
   "cell_type": "code",
   "execution_count": null,
   "metadata": {},
   "outputs": [],
   "source": []
  }
 ],
 "metadata": {
  "kernelspec": {
   "display_name": "Python 3",
   "language": "python",
   "name": "python3"
  },
  "language_info": {
   "codemirror_mode": {
    "name": "ipython",
    "version": 3
   },
   "file_extension": ".py",
   "mimetype": "text/x-python",
   "name": "python",
   "nbconvert_exporter": "python",
   "pygments_lexer": "ipython3",
   "version": "3.7.2"
  }
 },
 "nbformat": 4,
 "nbformat_minor": 2
}
