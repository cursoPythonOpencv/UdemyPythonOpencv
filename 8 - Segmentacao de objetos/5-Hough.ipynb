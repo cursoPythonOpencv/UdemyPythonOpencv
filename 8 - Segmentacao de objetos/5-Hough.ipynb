{
 "cells": [
  {
   "cell_type": "markdown",
   "metadata": {},
   "source": [
    "# Transformada de Hough\n",
    "\n",
    "O Objetivo dessa aula é:\n",
    "\n",
    "1. Entender o conceito da transforma de hough.\n",
    "2. Como usa-la para detecção de linhas em uma imagem.\n",
    "\n",
    "\n",
    "\n",
    "# Teoria\n",
    "\n",
    "Hough Transform é uma técnica popular para detectar qualquer forma, se você puder representar essa forma na forma matemática. Ele pode detectar a forma mesmo se ela estiver quebrada ou distorcida um pouco. Vamos ver como funciona para uma linha.\n",
    "\n",
    "Uma linha pode ser representada como y = mx + c ou em forma paramétrica, como $ \\rho = x \\cos \\theta + y \\sin \\theta $  Onde $\\rho$ é a distância perpendicular da origem até a linha, e $\\theta $ é o ângulo formado por essa linha perpendicular e o eixo horizontal medido no sentido anti-horário (essa direção varia de acordo com a representação do sistema de coordenadas. Essa representação é usada no OpenCV). Confira abaixo a imagem:\n",
    "\n",
    "![alt text](https://docs.opencv.org/3.0-beta/_images/houghlines1.svg \"Logo Title Text 1\")\n",
    "\n",
    "[logo]: https://docs.opencv.org/3.0-beta/_images/houghlines1.svg \"Logo Title Text 2\"\n",
    "\n",
    "\n",
    "Portanto, se a linha estiver passando abaixo da origem, ela terá um rho e ângulo positivos menores que 180. Se estiver acima da origem, em vez de ter um ângulo maior que 180, o ângulo será menor que 180 e rho será considerado negativo. Qualquer linha vertical terá 0 grau e as linhas horizontais terão 90 graus.\n",
    "\n",
    "Agora vamos ver como o Hough Transform funciona para linhas. Qualquer linha pode ser representada nestes dois termos, ($\\rho, \\theta$) . Então, primeiro, ele cria um array 2D ou um acumulador (para manter valores de dois parâmetros) e é definido como 0 inicialmente. Deixar linhas denotam o $\\rho$ e colunas denotam o $\\theta$ . O tamanho da matriz depende da precisão que você precisa. Suponha que você queira que a precisão dos ângulos seja de 1 grau, você precisa de 180 colunas. Para $\\rho$ , a distância máxima possível é o comprimento diagonal da imagem. Então, tendo uma precisão de pixel, o número de linhas pode ser o comprimento diagonal da imagem.\n",
    "\n",
    "Considere uma imagem 100x100 com uma linha horizontal no meio. Tome o primeiro ponto da linha. Você sabe seus valores (x, y). Agora na equação da linha, coloque os valores \\ theta = 0,1,2, ...., 180 e verifique o $\\rho$ você consegue. Para cada ($\\rho, \\theta$) par, você incrementa o valor por um em nosso acumulador em seu correspondente ($\\rho, \\theta$) células Então agora no acumulador, a célula (50,90) = 1 junto com algumas outras células.\n",
    "\n",
    "Agora pegue o segundo ponto na linha. Faça o mesmo que acima. Incrementar os valores nas células correspondentes a ($\\rho, \\theta$) você tem. Desta vez, a célula (50,90) = 2. O que você realmente faz é votar no ($\\rho, \\theta$) valores. Você continua esse processo para todos os pontos da linha. Em cada ponto, a célula (50,90) será incrementada ou votada, enquanto outras células podem ou não ser votadas. Desta forma, no final, a célula (50,90) terá votos máximos. Então, se você procurar no acumulador por votos máximos, você obtém o valor (50,90) que diz que há uma linha nesta imagem na distância 50 da origem e no ângulo de 90 graus. É bem mostrado na animação abaixo (Imagem Cortesia: Amos Storkey ) \n",
    "\n",
    "![alt text](https://docs.opencv.org/3.0-beta/_images/houghlinesdemo.gif \"Logo Title Text 1\")\n",
    "\n",
    "[logo]: https://docs.opencv.org/3.0-beta/_images/houghlinesdemo.gif \"Logo Title Text 2\"\n",
    "\n",
    "É assim que o transformador de linhas trabalha. É simples e pode ser que você possa implementá-lo usando o Numpy por conta própria. Abaixo está uma imagem que mostra o acumulador. Pontos brilhantes em alguns locais indicam que são os parâmetros de possíveis linhas na imagem. (Imagem cedida por: Wikipedia )\n",
    "\n",
    "![alt text](https://docs.opencv.org/3.0-beta/_images/houghlines2.jpg \"Logo Title Text 1\")\n",
    "\n",
    "[logo]: https://docs.opencv.org/3.0-beta/_images/houghlines2.jpg \"Logo Title Text 2\"\n",
    "\n"
   ]
  },
  {
   "cell_type": "markdown",
   "metadata": {},
   "source": [
    "Importando as bibliotecas e lendo a imagem"
   ]
  },
  {
   "cell_type": "code",
   "execution_count": 1,
   "metadata": {},
   "outputs": [],
   "source": [
    "import cv2\n",
    "import numpy as np\n",
    "\n",
    "img = cv2.imread('estrada.jpg')"
   ]
  },
  {
   "cell_type": "markdown",
   "metadata": {},
   "source": [
    "Convertendo para tons de cinza e aplicando a detecção de bordas por canny"
   ]
  },
  {
   "cell_type": "code",
   "execution_count": 2,
   "metadata": {},
   "outputs": [],
   "source": [
    "gray = cv2.cvtColor(img, cv2.COLOR_BGR2GRAY)\n",
    "edges = cv2.Canny(gray, 70, 255)"
   ]
  },
  {
   "cell_type": "markdown",
   "metadata": {},
   "source": [
    "Na transformação hough é preciso muita computação. A Transformação Hough Probabilística é uma otimização da Transformação Hough que foi comentada na aula. \n",
    "\n",
    "Essa função não leva todos os pontos em consideração, em vez disso, leva apenas um subconjunto aleatório de pontos e isso é suficiente para a detecção de linha. \n",
    "\n",
    "FUNÇÃO **HoughLinesP(img, ρ, θ, minVal, maxVal)**\n",
    "\n",
    "Entrada:  \n",
    "        1. img = Imagem com a qual queremos trabalhar binária.\n",
    "        2. ρ = distância perpendicular da origem até a linha.\n",
    "        3. θ = ângulo perpendicular da linha ao eixo.\n",
    "        4. minVal =  comprimento mínimo da linha. Segmentos de linha mais curtos do que isso são rejeitados.\n",
    "        5. maxVal = comprimento máximo da linha.\n",
    "Saída:\n",
    "\n",
    "        1. Imagem com bordas detectadas.\n"
   ]
  },
  {
   "cell_type": "code",
   "execution_count": 3,
   "metadata": {},
   "outputs": [],
   "source": [
    "lines = cv2.HoughLinesP(edges, 1, np.pi/180, 10, 200)"
   ]
  },
  {
   "cell_type": "markdown",
   "metadata": {},
   "source": [
    "Desenhar as linhas detectadas\n",
    "\n",
    "FUNÇÃO **line(img, coord1, coord2, cor, lag)**\n",
    "\n",
    "Entrada:  \n",
    "        1. img = Imagem com a qual queremos trabalhar binária.\n",
    "        2. coord1 = coordenadas iniciais.\n",
    "        3. coord2 = coordenadas finais.\n",
    "        4. cor =  cor da linha.\n",
    "        5. lag = grossura da linha.\n",
    "Saída:\n",
    "\n",
    "        1. linha desenhada\n"
   ]
  },
  {
   "cell_type": "code",
   "execution_count": null,
   "metadata": {},
   "outputs": [],
   "source": [
    "for line in lines:\n",
    "    x1, y1, x2, y2 = line[0]\n",
    "    cv2.line(img, (x1,y1),(x2,y2), (0,255,0),3)\n",
    "    \n",
    "cv2.imshow(\"Imagem\", img)\n",
    "cv2.waitKey(0)\n",
    "cv2.destroyAllWindows()"
   ]
  },
  {
   "cell_type": "code",
   "execution_count": null,
   "metadata": {},
   "outputs": [],
   "source": []
  }
 ],
 "metadata": {
  "kernelspec": {
   "display_name": "Python 3",
   "language": "python",
   "name": "python3"
  },
  "language_info": {
   "codemirror_mode": {
    "name": "ipython",
    "version": 3
   },
   "file_extension": ".py",
   "mimetype": "text/x-python",
   "name": "python",
   "nbconvert_exporter": "python",
   "pygments_lexer": "ipython3",
   "version": "3.7.2"
  }
 },
 "nbformat": 4,
 "nbformat_minor": 2
}
