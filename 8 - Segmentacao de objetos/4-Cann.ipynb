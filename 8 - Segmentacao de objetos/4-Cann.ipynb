{
 "cells": [
  {
   "cell_type": "code",
   "execution_count": null,
   "metadata": {},
   "outputs": [],
   "source": [
    "import cv2\n",
    "import numpy as np\n",
    "\n",
    "img = cv2.imread('cafe.jpg', 0)\n",
    "\n",
    "imgGauss = cv2.GaussianBlur(img, (5,5),0)\n",
    "\n",
    "metodo = cv2.THRESH_BINARY_INV\n",
    "ret, imgBin = cv2.threshold(imgGauss, 100, 255, metodo)\n",
    "\n",
    "imgSeg = cv2.Canny(imgBin, 100, 200)\n",
    "\n",
    "cv2.imshow('Binarizada', imgBin)\n",
    "cv2.imshow('Segmentada', imgSeg)\n",
    "\n",
    "cv2.waitKey(0)\n",
    "cv2.destroyAllWindows()\n"
   ]
  },
  {
   "cell_type": "code",
   "execution_count": null,
   "metadata": {},
   "outputs": [],
   "source": []
  }
 ],
 "metadata": {
  "kernelspec": {
   "display_name": "Python 3",
   "language": "python",
   "name": "python3"
  },
  "language_info": {
   "codemirror_mode": {
    "name": "ipython",
    "version": 3
   },
   "file_extension": ".py",
   "mimetype": "text/x-python",
   "name": "python",
   "nbconvert_exporter": "python",
   "pygments_lexer": "ipython3",
   "version": "3.7.2"
  }
 },
 "nbformat": 4,
 "nbformat_minor": 2
}
