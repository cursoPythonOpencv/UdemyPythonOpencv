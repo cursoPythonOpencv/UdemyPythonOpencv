{
 "cells": [
  {
   "cell_type": "markdown",
   "metadata": {},
   "source": [
    "# Binarização por Otsu\n",
    "\n",
    "Foi abordado na binarização por limiar e adptativa um valor no qual cada pixel da imagem é comparado e depois segmentado de acordo com essa comparação. Mas um grande inconveniente desses métodos é que o usuário precisa passar esse valor de limiar para ser feito a segmentação da imagem.\n",
    "\n",
    "Uma forma de automatizar esse procedimento é justamente o algoritmo de Otsu, no qual define um limiar baseado no histograma da imagem.\n",
    "\n",
    "Esse algoritmo pode ser usado junto à função **threshold**, necessitando apenas que a constante **THRESH_OTSU** seja tomada ao tipo definido para a binarização.\n",
    "\n",
    "Importando as bibliotecas e lendo a imagem."
   ]
  },
  {
   "cell_type": "code",
   "execution_count": 1,
   "metadata": {},
   "outputs": [],
   "source": [
    "import cv2\n",
    "import numpy as np\n",
    "from matplotlib import pyplot as plt\n",
    "\n",
    "img = cv2.imread('cafe.jpg', 0)"
   ]
  },
  {
   "cell_type": "markdown",
   "metadata": {},
   "source": [
    "Definindo o método de binarização"
   ]
  },
  {
   "cell_type": "code",
   "execution_count": 2,
   "metadata": {},
   "outputs": [
    {
     "name": "stdout",
     "output_type": "stream",
     "text": [
      "O melhor limiar é: 121.0\n"
     ]
    },
    {
     "data": {
      "image/png": "[encoded data removed]",
      "text/plain": [
       "<Figure size 432x288 with 1 Axes>"
      ]
     },
     "metadata": {
      "needs_background": "light"
     },
     "output_type": "display_data"
    }
   ],
   "source": [
    "metodo = cv2.THRESH_BINARY_INV + cv2.THRESH_OTSU\n",
    "ret, imgBin = cv2.threshold(img, 0, 255, metodo)\n",
    "\n",
    "print(\"O melhor limiar é:\", ret)\n",
    "\n",
    "plt.hist(img.ravel(), 256, [0,256])\n",
    "cv2.imshow('Original', img)\n",
    "plt.show()\n",
    "cv2.imshow('Otsu', imgBin)\n",
    "\n",
    "cv2.waitKey(0)\n",
    "cv2.destroyAllWindows()\n"
   ]
  },
  {
   "cell_type": "code",
   "execution_count": null,
   "metadata": {},
   "outputs": [],
   "source": []
  }
 ],
 "metadata": {
  "kernelspec": {
   "display_name": "Python 3",
   "language": "python",
   "name": "python3"
  },
  "language_info": {
   "codemirror_mode": {
    "name": "ipython",
    "version": 3
   },
   "file_extension": ".py",
   "mimetype": "text/x-python",
   "name": "python",
   "nbconvert_exporter": "python",
   "pygments_lexer": "ipython3",
   "version": "3.7.2"
  }
 },
 "nbformat": 4,
 "nbformat_minor": 2
}
