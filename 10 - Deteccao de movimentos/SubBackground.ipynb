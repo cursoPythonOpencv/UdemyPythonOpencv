{
 "cells": [
  {
   "cell_type": "markdown",
   "metadata": {},
   "source": [
    "# Subtração de Background\n",
    "\n",
    "*    Separar o fundo do primeiro plano em fluxos de vídeo.\n",
    "\n",
    "*    Todos os métodos de subtração de fundo são moderados em precisão, bem como tempo computacional. Nessa aula iremos fazer um código exemplo para essa técnica.\n",
    "\n",
    "### Funções:\n",
    "\n",
    "*    **createBackgroundSubtractorMOG2(history, varThreshold, detectShadows)**\n",
    "*    **createBackgroundSubtractorKNN (history, dist2Threshold, detectShadows)**\n",
    "\n",
    "onde:\n",
    "1. **history** = é o número de frame  usados para construir o modelo estatístico do plano de fundo. Quanto menor for o valor, mais rápidas as alterações no plano de fundo serão consideradas pelo modelo e, portanto, serão consideradas como plano de fundo. E vice versa.\n",
    "2. **dist2Threshold** = Limiar na distância quadrada entre o pixel e a amostra para decidir se um pixel está próximo dessa amostra. Este parâmetro não afeta a atualização em segundo plano.\n",
    "2. **varThreshold** = Limiar na distância quadrada de Mahalanobis entre o pixel e o modelo para decidir se um pixel está bem descrito pelo modelo de fundo. Este parâmetro não afeta a atualização em segundo plano.\n",
    "3. **detectShadows**  = Se setado como True, as sombras serão apresentadas na imagem.\n"
   ]
  },
  {
   "cell_type": "code",
   "execution_count": 1,
   "metadata": {},
   "outputs": [],
   "source": [
    "import numpy as np\n",
    "import cv2\n",
    "\n",
    "cap = cv2.VideoCapture(0)\n",
    "\n",
    "mog = cv2.createBackgroundSubtractorMOG2(history=300, varThreshold=10,  detectShadows=True)\n",
    "knn = cv2.createBackgroundSubtractorKNN( history=100,  dist2Threshold=40,  detectShadows=True)\n",
    "\n",
    "while (True):\n",
    "    ret, frame = cap.read()\n",
    "    \n",
    "    fgmask1 = mog.apply(frame)\n",
    "    fgmask2 = knn.apply(frame)\n",
    "\n",
    "    cv2.imshow('MOG2', fgmask1)\n",
    "    cv2.imshow('KNN', fgmask2)\n",
    "\n",
    "    if cv2.waitKey(1) == 27:\n",
    "      break\n",
    "\n",
    "cap.release()\n",
    "cv2.destroyAllWindows()"
   ]
  },
  {
   "cell_type": "code",
   "execution_count": null,
   "metadata": {},
   "outputs": [],
   "source": []
  }
 ],
 "metadata": {
  "kernelspec": {
   "display_name": "Python 3",
   "language": "python",
   "name": "python3"
  },
  "language_info": {
   "codemirror_mode": {
    "name": "ipython",
    "version": 3
   },
   "file_extension": ".py",
   "mimetype": "text/x-python",
   "name": "python",
   "nbconvert_exporter": "python",
   "pygments_lexer": "ipython3",
   "version": "3.8.5"
  }
 },
 "nbformat": 4,
 "nbformat_minor": 4
}
