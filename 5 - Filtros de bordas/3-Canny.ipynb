{
 "cells": [
  {
   "cell_type": "markdown",
   "metadata": {},
   "source": [
    "# Detector de bordas - CANNY\n",
    "\n",
    "O detector de bordas por canny é um dos mais eficientes algoritmos para detectar bordas em imagens. Esse tipo de detector de bordas deve respeitar três caracter´siticas principais.\n",
    "\n",
    "1. O algoritmo deve ser capaz de identificar todas as bordas possíveis.\n",
    "2. Todas as bordas detectadas devem estar próximas das bordas originais.\n",
    "3. Bordas falsas não podem ser criadas, ou seja, cada borda deve ser definida uma única vez.\n",
    "\n",
    "Importando as bibliotecas"
   ]
  },
  {
   "cell_type": "code",
   "execution_count": 2,
   "metadata": {},
   "outputs": [],
   "source": [
    "import cv2\n",
    "from matplotlib import pyplot as plt\n",
    "%notebook inline"
   ]
  },
  {
   "cell_type": "markdown",
   "metadata": {},
   "source": [
    "Lendo a imagem"
   ]
  },
  {
   "cell_type": "code",
   "execution_count": 3,
   "metadata": {},
   "outputs": [],
   "source": [
    "img = cv2.imread('predio.jpg')"
   ]
  },
  {
   "cell_type": "markdown",
   "metadata": {},
   "source": [
    "FUNÇÃO **Canny (img, int_detc1, int_detc2)**\n",
    "    \n",
    "Entrada:        \n",
    "                1. img = Imagem com a qual queremos trabalhar em tons de cinza.\n",
    "                2. int_detc1 = Intensidade de detecção 1.\n",
    "                3. int_detc2 = Intensidade de detecção 2.\n",
    "\n",
    "\n",
    "Saída:\n",
    "                1. Matriz referente a imagem com o realce por Canny."
   ]
  },
  {
   "cell_type": "code",
   "execution_count": null,
   "metadata": {},
   "outputs": [],
   "source": [
    "\n",
    "\n",
    "fig = plt.figure(figsize=(20,50))\n",
    "\n",
    "ax1 = fig.add_subplot(121)\n",
    "plt.imshow(img, cmap=plt.cm.gray)\n",
    "plt.title(\"Imagem Original\")\n",
    "\n",
    "ax2 = fig.add_subplot(122)\n",
    "plt.imshow(canny, cmap=plt.cm.gray)\n",
    "plt.title(\"Operador Canny\")\n",
    "\n",
    "plt.show()"
   ]
  },
  {
   "cell_type": "code",
   "execution_count": null,
   "metadata": {},
   "outputs": [],
   "source": []
  }
 ],
 "metadata": {
  "kernelspec": {
   "display_name": "Python 3",
   "language": "python",
   "name": "python3"
  },
  "language_info": {
   "codemirror_mode": {
    "name": "ipython",
    "version": 3
   },
   "file_extension": ".py",
   "mimetype": "text/x-python",
   "name": "python",
   "nbconvert_exporter": "python",
   "pygments_lexer": "ipython3",
   "version": "3.7.2"
  }
 },
 "nbformat": 4,
 "nbformat_minor": 2
}
