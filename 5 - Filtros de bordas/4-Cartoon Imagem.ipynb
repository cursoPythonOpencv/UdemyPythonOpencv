{
 "cells": [
  {
   "cell_type": "markdown",
   "metadata": {},
   "source": [
    "# Imagem Cartoon\n",
    "\n",
    "O objetivo dessa aula é aplicar filtros nas imagens para resultar em uma imagem em estilo cartoon"
   ]
  },
  {
   "cell_type": "code",
   "execution_count": null,
   "metadata": {},
   "outputs": [],
   "source": [
    "# Biblioteca\n",
    "import cv2\n",
    "from  matplotlib import pyplot as plt\n",
    "%matplotlib inline"
   ]
  },
  {
   "cell_type": "code",
   "execution_count": null,
   "metadata": {},
   "outputs": [],
   "source": [
    "image = cv2.imread('por_sol.png')\n",
    "\n",
    "plt.figure(figsize=(10,8))\n",
    "plt.imshow(image)\n",
    "plt.show()"
   ]
  },
  {
   "cell_type": "markdown",
   "metadata": {},
   "source": [
    "### Filtro *edgePreservingFilter*\n",
    "\n",
    "O filtro *edgePreservingFilter*, ou suavização com preservação de bordas, é uma técnica de processamento de imagem que suaviza ruídos ou texturas enquanto mantém as bordas nítidas. \n",
    "\n",
    "Usado muitas aplicações, por exemplo, imagens médicas ou de satélite, onde as bordas das imagems são características-chave e, portanto, devem ser preservadas nítidas e sem distorções na suavização/eliminação de ruído. Filtros de preservação de borda são projetados para limitar automaticamente a suavização em \"bordas\" em imagens.\n",
    "\n",
    "| src | Imagem de entrada |\n",
    "|:-:|:-:|\n",
    "| dst | Imagem de saída |\n",
    "| flags | Filtros de preservação de borda. **RECURS_FILTER** (Filtragem Recursiva) = 1 e **NORMCONV_FILTER** (Convolução Normalizada) = 2.  Usar a opção RECURS_FILTER é cerca de 3,5x mais rápido do que NORMCONV_FILTER.  O NORMCONV_FILTER produz nitidez das bordas e é bom para aplicações como estilizações.  Quando a nitidez não é desejável e a velocidade é importante, RECURS_FILTER deve ser usado. |\n",
    "| sigma_s | Valores entre 0 e 200. Controla o tamanho dos vizinhos para a suavização. |\n",
    "| sigma_r | Valores entre 0 e 1. Controla como as cores diferentes na vizinhança serão calculadas.  Um sigma_r maior resulta em grandes regiões de cor constante. |"
   ]
  },
  {
   "cell_type": "code",
   "execution_count": null,
   "metadata": {},
   "outputs": [],
   "source": [
    "#Desforque da imagem usando a funcao edgePreservingFilter\n",
    "edgePreservingImage = cv2.edgePreservingFilter(image, flags=2, sigma_s=50, sigma_r=0.4)\n",
    "\n",
    "plt.figure(figsize=(10,8))\n",
    "plt.imshow(edgePreservingImage)\n",
    "plt.show()"
   ]
  },
  {
   "cell_type": "markdown",
   "metadata": {},
   "source": [
    "### Filtro *Stylization*\n",
    "\n",
    "O filtro de estilização produz uma saída que parece que a imagem foi pintada com aquarela.\n",
    "\n",
    "| src | Imagem de entrada |\n",
    "|:-:|:-:|\n",
    "| sigma_s | Valores entre 0 e 200. Controla o tamanho dos vizinhos para a suavização. |\n",
    "| sigma_r | Valores entre 0 e 1. Controla como as cores diferentes na vizinhança serão calculadas.  Um sigma_r maior resulta em grandes regiões de cor constante. |"
   ]
  },
  {
   "cell_type": "code",
   "execution_count": null,
   "metadata": {},
   "outputs": [],
   "source": [
    "cartoon_image = cv2.stylization(image, sigma_s=150, sigma_r=0.25) \n",
    "\n",
    "plt.figure(figsize=(10,8))\n",
    "plt.imshow(cartoon_image)\n",
    "plt.show()\n"
   ]
  },
  {
   "cell_type": "code",
   "execution_count": null,
   "metadata": {},
   "outputs": [],
   "source": []
  }
 ],
 "metadata": {
  "kernelspec": {
   "display_name": "Python 3",
   "language": "python",
   "name": "python3"
  },
  "language_info": {
   "codemirror_mode": {
    "name": "ipython",
    "version": 3
   },
   "file_extension": ".py",
   "mimetype": "text/x-python",
   "name": "python",
   "nbconvert_exporter": "python",
   "pygments_lexer": "ipython3",
   "version": "3.8.6rc1"
  }
 },
 "nbformat": 4,
 "nbformat_minor": 4
}
